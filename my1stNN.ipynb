{
 "cells": [
  {
   "cell_type": "code",
   "execution_count": 2,
   "metadata": {},
   "outputs": [
    {
     "name": "stderr",
     "output_type": "stream",
     "text": [
      "Using TensorFlow backend.\n"
     ]
    },
    {
     "name": "stdout",
     "output_type": "stream",
     "text": [
      "(50000, 28, 28) (50000,)\n"
     ]
    },
    {
     "data": {
      "image/png": "[encoded data removed]",
      "text/plain": [
       "<matplotlib.figure.Figure at 0x7f880c67fb38>"
      ]
     },
     "metadata": {},
     "output_type": "display_data"
    }
   ],
   "source": [
    "from preprocessed_mnist import load_dataset\n",
    "X_train, y_train, X_val, y_val, X_test, y_test = load_dataset()\n",
    "print(X_train.shape, y_train.shape)\n",
    "import matplotlib.pyplot as plt\n",
    "%matplotlib inline\n",
    "plt.imshow(X_train[0], cmap=\"Greys\");"
   ]
  },
  {
   "cell_type": "code",
   "execution_count": 48,
   "metadata": {
    "collapsed": true
   },
   "outputs": [],
   "source": [
    "import tensorflow as tf\n",
    "import numpy as np\n",
    "import math\n",
    "import time\n",
    "from tensorflow.python.framework import ops"
   ]
  },
  {
   "cell_type": "code",
   "execution_count": 3,
   "metadata": {
    "collapsed": true
   },
   "outputs": [],
   "source": [
    "def convert_to_one_hot(labels, class_type):\n",
    "    \"\"\"\n",
    "    Convert Y labels to one hot matrix.\n",
    "    \n",
    "    Arguments:\n",
    "    labels -- vector contains the labels of mnist.\n",
    "    class_type -- unique records of the label vector.\n",
    "    \n",
    "    Returns:\n",
    "    one_hot -- one_hot_matrix of the label vector.\n",
    "    \"\"\"\n",
    "    C = tf.constant(class_type, name = \"C\")\n",
    "    one_hot_matrix = tf.one_hot(indices=labels, depth=C, axis=0)\n",
    "    \n",
    "    sess = tf.Session()\n",
    "    one_hot = sess.run(one_hot_matrix)\n",
    "    sess.close()\n",
    "    \n",
    "    return one_hot\n"
   ]
  },
  {
   "cell_type": "code",
   "execution_count": 4,
   "metadata": {
    "collapsed": true
   },
   "outputs": [],
   "source": [
    "# Reference: https://github.com/andersy005/deep-learning-specialization-coursera/blob/master/02-Improving-Deep-Neural-Networks/week3/Programming-Assignments/tf_utils.py\n",
    "def random_mini_batches(X, Y, mini_batch_size = 64, seed = 0):\n",
    "    \"\"\"\n",
    "    Creates a list of random minibatches from (X, Y)\n",
    "    \n",
    "    Arguments:\n",
    "    X -- input data, of shape (input size, number of examples)\n",
    "    Y -- true \"label\" vector (containing 0 if cat, 1 if non-cat), of shape (1, number of examples)\n",
    "    mini_batch_size - size of the mini-batches, integer\n",
    "    seed -- this is only for the purpose of grading, so that you're \"random minibatches are the same as ours.\n",
    "    \n",
    "    Returns:\n",
    "    mini_batches -- list of synchronous (mini_batch_X, mini_batch_Y)\n",
    "    \"\"\"\n",
    "    \n",
    "    m = X.shape[1]                  # number of training examples\n",
    "    mini_batches = []\n",
    "    np.random.seed(seed)\n",
    "    \n",
    "    # Step 1: Shuffle (X, Y)\n",
    "    permutation = list(np.random.permutation(m))\n",
    "    shuffled_X = X[:, permutation]\n",
    "    shuffled_Y = Y[:, permutation].reshape((Y.shape[0],m))\n",
    "\n",
    "    # Step 2: Partition (shuffled_X, shuffled_Y). Minus the end case.\n",
    "    num_complete_minibatches = math.floor(m/mini_batch_size) # number of mini batches of size mini_batch_size in your partitionning\n",
    "    for k in range(0, num_complete_minibatches):\n",
    "        mini_batch_X = shuffled_X[:, k * mini_batch_size : k * mini_batch_size + mini_batch_size]\n",
    "        mini_batch_Y = shuffled_Y[:, k * mini_batch_size : k * mini_batch_size + mini_batch_size]\n",
    "        mini_batch = (mini_batch_X, mini_batch_Y)\n",
    "        mini_batches.append(mini_batch)\n",
    "    \n",
    "    # Handling the end case (last mini-batch < mini_batch_size)\n",
    "    if m % mini_batch_size != 0:\n",
    "        mini_batch_X = shuffled_X[:, num_complete_minibatches * mini_batch_size : m]\n",
    "        mini_batch_Y = shuffled_Y[:, num_complete_minibatches * mini_batch_size : m]\n",
    "        mini_batch = (mini_batch_X, mini_batch_Y)\n",
    "        mini_batches.append(mini_batch)\n",
    "    \n",
    "    return mini_batches"
   ]
  },
  {
   "cell_type": "code",
   "execution_count": 5,
   "metadata": {
    "collapsed": true
   },
   "outputs": [],
   "source": [
    "# Flatten dataset\n",
    "X_train_flatten = X_train.reshape(X_train.shape[0], -1).T\n",
    "X_val_flatten = X_val.reshape(X_val.shape[0], -1).T\n",
    "X_test_flatten = X_test.reshape(X_test.shape[0], -1).T\n",
    "\n",
    "# Normalization\n",
    "X_train = X_train_flatten/255\n",
    "X_val = X_val_flatten/255\n",
    "X_test = X_test_flatten/255\n",
    "\n",
    "# Convert training and test labels to one hot matrices\n",
    "y_train = convert_to_one_hot(y_train, 10)\n",
    "y_val = convert_to_one_hot(y_val, 10)\n",
    "y_test = convert_to_one_hot(y_test, 10)"
   ]
  },
  {
   "cell_type": "code",
   "execution_count": 26,
   "metadata": {
    "collapsed": true
   },
   "outputs": [],
   "source": [
    "# Create placeholder function\n",
    "def create_placeholder(image_size_flatten, class_type):\n",
    "    \"\"\"\n",
    "    Creates the placeholders for the tensorflow session.\n",
    "    \n",
    "    Arguments:\n",
    "    image_size_flatten -- scalar, size of an image vector (num_px * num_px = 28 * 28 = 784)\n",
    "    class_type -- scalar, number of classes (from 0 to 9, so -> 10)\n",
    "    \n",
    "    Returns:\n",
    "    X -- placeholder for the data input, of shape [image_size_flatten, None] and dtype \"float\"\n",
    "    Y -- placeholder for the input labels, of shape [class_type, None] and dtype \"float\"\n",
    "    keep_prob -- placeholder for dropout, dtype \"float\"\n",
    "    \"\"\"\n",
    "    \n",
    "    X = tf.placeholder(dtype = tf.float32, shape = [image_size_flatten, None], name = \"x\")\n",
    "    Y = tf.placeholder(dtype = tf.float32, shape = [class_type, None], name = \"y\")\n",
    "    keep_prob = tf.placeholder(dtype = tf.float32)\n",
    "    \n",
    "    return X, Y, keep_prob"
   ]
  },
  {
   "cell_type": "code",
   "execution_count": 7,
   "metadata": {
    "collapsed": true
   },
   "outputs": [],
   "source": [
    "# Initialize_parameters\n",
    "def initialize_parameters(image_size_flatten, units_in_layers, class_type = 10):\n",
    "    \"\"\"\n",
    "    Initializes parameters to build a neural network with tensorflow. \n",
    "    \n",
    "    Arguments:\n",
    "    image_size_flatten -- scalar, size of an image vector (num_px * num_px = 28 * 28 = 784)\n",
    "    units_in_layers -- list, unit number in each hidden layer \n",
    "                       (dosen't contain the last hidden layer for classification, that layer will be appended in this function)\n",
    "    class_type -- scalar, number of classes (from 0 to 9, so -> 10)\n",
    "    \n",
    "    Returns:\n",
    "    parameters -- a dictionary contains all the weights \"W\" and bias term \"b\".\n",
    "    \"\"\"\n",
    "    units_in_layers.append(class_type)\n",
    "    layers_n = len(units_in_layers)\n",
    "    units_in_layers.insert(0, image_size_flatten)\n",
    "    parameters = {}\n",
    "    \n",
    "    for l in range(layers_n):\n",
    "        parameters[\"W\"+str(l+1)] = tf.get_variable(\"W\"+str(l+1), [units_in_layers[l+1], units_in_layers[l]], initializer = tf.contrib.layers.xavier_initializer())\n",
    "        parameters[\"b\"+str(l+1)] = tf.get_variable(\"b\"+str(l+1), [units_in_layers[l+1], 1], initializer = tf.zeros_initializer())\n",
    "        \n",
    "    return parameters"
   ]
  },
  {
   "cell_type": "code",
   "execution_count": 27,
   "metadata": {
    "collapsed": true
   },
   "outputs": [],
   "source": [
    "# Forward propagation\n",
    "def forward_propagation(X, parameters, keep_prob):\n",
    "    \"\"\"\n",
    "    Implements the forward propagation for the model.\n",
    "    \n",
    "    Arguments:\n",
    "    X -- input dataset placeholder, of shape (input size, number of examples)\n",
    "    parameters -- python dictionary containing parameters weights and bias for each layer.\n",
    "                  the shapes are given in initialize_parameters\n",
    "    keep_prob -- list, probability for each layer when you are using dropout.\n",
    "\n",
    "    Returns:\n",
    "    Z -- the output of the last LINEAR unit\n",
    "    \"\"\"\n",
    "    A = X\n",
    "    layers_n = len(parameters) // 2\n",
    "    for l in range(layers_n-1):\n",
    "        Z = tf.add(tf.matmul(parameters[\"W\"+str(l+1)], A), parameters[\"b\"+str(l+1)])\n",
    "        A = tf.nn.relu(Z)\n",
    "        A = tf.nn.dropout(A, keep_prob[l])\n",
    "    Z = tf.add(tf.matmul(parameters[\"W\"+str(layers_n)], A), parameters[\"b\"+str(layers_n)])\n",
    "    return Z\n"
   ]
  },
  {
   "cell_type": "code",
   "execution_count": 9,
   "metadata": {
    "collapsed": true
   },
   "outputs": [],
   "source": [
    "# Cost function\n",
    "def compute_cost(Z, Y):\n",
    "    \"\"\"\n",
    "    Computes the cost\n",
    "    \n",
    "    Arguments:\n",
    "    Z -- output of forward propagation (output of the last LINEAR unit), of shape (10, number of examples)\n",
    "    Y -- \"true\" labels vector placeholder, same shape as Z\n",
    "    \n",
    "    Returns:\n",
    "    cost - Tensor of the cost function\n",
    "    \"\"\"\n",
    "    logits = tf.transpose(Z)\n",
    "    labels = tf.transpose(Y)\n",
    "    cost = tf.reduce_mean(tf.nn.softmax_cross_entropy_with_logits(logits=logits, labels=labels))\n",
    "    return cost"
   ]
  },
  {
   "cell_type": "code",
   "execution_count": 60,
   "metadata": {
    "collapsed": true
   },
   "outputs": [],
   "source": [
    "# Create model\n",
    "def model(X_train, y_train, X_val, y_val, X_test, y_test, learning_rate = 0.01, structure = [500],\n",
    "          num_epochs = 25, minibatch_size = 32, print_cost = True):\n",
    "    \"\"\"\n",
    "    Implements a three-layer tensorflow neural network.\n",
    "    \n",
    "    Arguments:\n",
    "    X_train -- training set\n",
    "    y_train -- training set\n",
    "    X_val -- validation set\n",
    "    y_val -- validation set\n",
    "    X_test -- test set\n",
    "    y_test -- test set\n",
    "    learning_rate -- learning rate of the optimization\n",
    "    structure -- list, the structure of your network, unit number in specific layer\n",
    "    num_epochs -- number of epochs of the optimization loop\n",
    "    minibatch_size -- size of a minibatch\n",
    "    print_cost -- True to print the cost\n",
    "    \n",
    "    Returns:\n",
    "    parameters -- parameters learnt by the model. They can then be used to predict.\n",
    "    \"\"\"\n",
    "    ops.reset_default_graph()                         # to be able to rerun the model without overwriting tf variables\n",
    "    tf.set_random_seed(1)                             # to keep consistent results\n",
    "    seed = 3                                          # to keep consistent results\n",
    "    (image_size_flatten, m) = X_train.shape           # (image_size_flatten: input size, m : number of examples in the train set)\n",
    "    class_type = y_train.shape[0]                     # class_type : output size\n",
    "    costs = []                                        # To keep track of the cost\n",
    "    \n",
    "    # Create Placeholders of shape (image_size_flatten, class_type)\n",
    "    X, Y, keep_prob = create_placeholder(image_size_flatten, class_type)\n",
    "\n",
    "    # Initialize parameters\n",
    "    parameters = initialize_parameters(image_size_flatten, structure, class_type = class_type)\n",
    "    \n",
    "    # Forward propagation: Build the forward propagation in the tensorflow graph\n",
    "    Z = forward_propagation(X, parameters, keep_prob)\n",
    "    \n",
    "    # Cost function: Add cost function to tensorflow graph\n",
    "    cost = compute_cost(Z, Y)\n",
    "    \n",
    "    # Backpropagation: Define the tensorflow optimizer. Use an AdamOptimizer.\n",
    "    optimizer = tf.train.AdamOptimizer(learning_rate=learning_rate).minimize(cost)\n",
    "    \n",
    "    # Initialize all the variables\n",
    "    init = tf.global_variables_initializer()\n",
    "    \n",
    "    # Start the session to compute the tensorflow graph\n",
    "    with tf.Session() as sess:\n",
    "        \n",
    "        # Run the initialization\n",
    "        sess.run(init)\n",
    "        running_time = time.time()\n",
    "        # Do the training loop\n",
    "        for epoch in range(num_epochs):\n",
    "\n",
    "            epoch_cost = 0.                       # Defines a cost related to an epoch\n",
    "            num_minibatches = int(m / minibatch_size) # number of minibatches of size minibatch_size in the train set\n",
    "            seed = seed + 1\n",
    "            minibatches = random_mini_batches(X_train, y_train, minibatch_size, seed)\n",
    "\n",
    "            for minibatch in minibatches:\n",
    "\n",
    "                # Select a minibatch\n",
    "                (minibatch_X, minibatch_Y) = minibatch\n",
    "                \n",
    "                # Run the session to execute the \"optimizer\" and the \"cost\", the feedict should contain a minibatch for (X,Y).\n",
    "                _ , minibatch_cost = sess.run([optimizer, cost], feed_dict={X: minibatch_X, Y: minibatch_Y,  keep_prob: [0.8]})\n",
    "                \n",
    "                epoch_cost += minibatch_cost / num_minibatches\n",
    "\n",
    "            # Print the cost every epoch\n",
    "            if print_cost == True and epoch % 2 == 0:\n",
    "                spend = (time.time()-running_time)\n",
    "                print (\"Running: %i seconds | Cost after epoch %i: %f\" % (spend, epoch, epoch_cost))\n",
    "            if print_cost == True and epoch % 2 == 0:\n",
    "                costs.append(epoch_cost)\n",
    "                \n",
    "        # plot the cost\n",
    "        plt.plot(np.squeeze(costs))\n",
    "        plt.ylabel('cost')\n",
    "        plt.xlabel('iterations (per tens)')\n",
    "        plt.title(\"Learning rate =\" + str(learning_rate))\n",
    "        plt.show()\n",
    "\n",
    "        # lets save the parameters in a variable\n",
    "        parameters = sess.run(parameters)\n",
    "        print (\"Parameters have been trained!\")\n",
    "\n",
    "        # Calculate the correct predictions\n",
    "        correct_prediction = tf.equal(tf.argmax(Z), tf.argmax(Y))\n",
    "\n",
    "        # Calculate accuracy on the test set\n",
    "        accuracy = tf.reduce_mean(tf.cast(correct_prediction, \"float\"))\n",
    "\n",
    "        print (\"Train Accuracy:\", accuracy.eval({X: X_train, Y: y_train, keep_prob: [1]}))\n",
    "        print (\"Validation Accuracy:\", accuracy.eval({X: X_val, Y: y_val, keep_prob: [1]}))\n",
    "        print (\"Test Accuracy:\", accuracy.eval({X: X_test, Y: y_test, keep_prob: [1]}))\n",
    "        \n",
    "        finish_time = (time.time() - running_time)\n",
    "        print (\"Running: %i seconds\" % (finish_time))\n",
    "        \n",
    "        return parameters"
   ]
  },
  {
   "cell_type": "code",
   "execution_count": 61,
   "metadata": {},
   "outputs": [
    {
     "name": "stdout",
     "output_type": "stream",
     "text": [
      "Running: 11 seconds | Cost after epoch 0: 0.453075\n",
      "Running: 34 seconds | Cost after epoch 2: 0.165637\n",
      "Running: 58 seconds | Cost after epoch 4: 0.115791\n",
      "Running: 81 seconds | Cost after epoch 6: 0.092891\n",
      "Running: 103 seconds | Cost after epoch 8: 0.075716\n",
      "Running: 127 seconds | Cost after epoch 10: 0.062346\n",
      "Running: 150 seconds | Cost after epoch 12: 0.053950\n",
      "Running: 173 seconds | Cost after epoch 14: 0.048848\n",
      "Running: 196 seconds | Cost after epoch 16: 0.043296\n",
      "Running: 219 seconds | Cost after epoch 18: 0.039123\n",
      "Running: 241 seconds | Cost after epoch 20: 0.037975\n",
      "Running: 264 seconds | Cost after epoch 22: 0.033462\n",
      "Running: 288 seconds | Cost after epoch 24: 0.030813\n"
     ]
    },
    {
     "data": {
      "image/png": "[encoded data removed]",
      "text/plain": [
       "<matplotlib.figure.Figure at 0x7f873ed4a7f0>"
      ]
     },
     "metadata": {},
     "output_type": "display_data"
    },
    {
     "name": "stdout",
     "output_type": "stream",
     "text": [
      "Parameters have been trained!\n",
      "Train Accuracy: 0.99614\n",
      "Validation Accuracy: 0.9803\n",
      "Test Accuracy: 0.9804\n",
      "Running: 292 seconds\n"
     ]
    }
   ],
   "source": [
    "parameters = model(X_train, y_train, X_val, y_val, X_test, y_test)"
   ]
  }
 ],
 "metadata": {
  "kernelspec": {
   "display_name": "Python 3",
   "language": "python",
   "name": "python3"
  },
  "language_info": {
   "codemirror_mode": {
    "name": "ipython",
    "version": 3
   },
   "file_extension": ".py",
   "mimetype": "text/x-python",
   "name": "python",
   "nbconvert_exporter": "python",
   "pygments_lexer": "ipython3",
   "version": "3.6.0"
  }
 },
 "nbformat": 4,
 "nbformat_minor": 2
}
